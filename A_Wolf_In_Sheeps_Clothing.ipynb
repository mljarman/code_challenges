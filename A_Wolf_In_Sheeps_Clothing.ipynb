{
 "cells": [
  {
   "cell_type": "markdown",
   "metadata": {},
   "source": [
    "A wolf in sheep's clothing\n",
    "Wolves have been reintroduced to Great Britain. You are a sheep farmer, and are now plagued by wolves which pretend to be sheep. Fortunately, you are good at spotting them.\n",
    "\n",
    "Warn the sheep in front of the wolf that it is about to be eaten. Remember that you are standing at the front of the queue which is at the end of the array:\n",
    "\n",
    "[sheep, sheep, sheep, sheep, sheep, wolf, sheep, sheep]      (YOU ARE HERE AT THE FRONT OF THE QUEUE)\n",
    "   7      6      5      4      3            2      1\n",
    "If the wolf is the closest animal to you, return \"Pls go away and stop eating my sheep\". Otherwise, return \"Oi! Sheep number N! You are about to be eaten by a wolf!\" where N is the sheep's position in the queue.\n",
    "\n",
    "Note: there will always be exactly one wolf in the array."
   ]
  },
  {
   "cell_type": "markdown",
   "metadata": {},
   "source": [
    "warn_the_sheep([\"sheep\", \"sheep\", \"sheep\", \"wolf\", \"sheep\"]) == 'Oi! Sheep number 1! You are about to be eaten by a wolf!'\n",
    "\n",
    "warn_the_sheep(['sheep', 'sheep', 'wolf']) == 'Pls go away and stop eating my sheep'"
   ]
  },
  {
   "cell_type": "code",
   "execution_count": 41,
   "metadata": {},
   "outputs": [],
   "source": [
    "def warn_the_sheep(queue):\n",
    "    if queue[-1] == 'wolf':\n",
    "        return 'Pls go away and stop eating my sheep'\n",
    "    else:\n",
    "        queue = queue[::-1]\n",
    "        num = queue.index('wolf')\n",
    "        return f'Oi! Sheep number {num}! You are about to be eaten by a wolf!'\n",
    "        \n",
    "        \n",
    "        "
   ]
  },
  {
   "cell_type": "code",
   "execution_count": 39,
   "metadata": {},
   "outputs": [
    {
     "name": "stdout",
     "output_type": "stream",
     "text": [
      "queue1['sheep3', 'wolf', 'sheep2', 'sheep1']\n",
      "queue['sheep1', 'sheep2', 'wolf', 'sheep3']\n"
     ]
    },
    {
     "data": {
      "text/plain": [
       "'Oi! Sheep number 1! You are about to be eaten by a wolf!'"
      ]
     },
     "execution_count": 39,
     "metadata": {},
     "output_type": "execute_result"
    }
   ],
   "source": [
    "warn_the_sheep(['sheep1', 'sheep2', 'wolf', 'sheep3'])"
   ]
  },
  {
   "cell_type": "code",
   "execution_count": 40,
   "metadata": {},
   "outputs": [
    {
     "name": "stdout",
     "output_type": "stream",
     "text": [
      "queue1['sheep', 'wolf', 'sheep', 'sheep', 'sheep']\n",
      "queue['sheep', 'sheep', 'sheep', 'wolf', 'sheep']\n"
     ]
    },
    {
     "data": {
      "text/plain": [
       "'Oi! Sheep number 1! You are about to be eaten by a wolf!'"
      ]
     },
     "execution_count": 40,
     "metadata": {},
     "output_type": "execute_result"
    }
   ],
   "source": [
    "warn_the_sheep([\"sheep\", \"sheep\", \"sheep\", \"wolf\", \"sheep\"])"
   ]
  },
  {
   "cell_type": "code",
   "execution_count": null,
   "metadata": {},
   "outputs": [],
   "source": []
  }
 ],
 "metadata": {
  "kernelspec": {
   "display_name": "Python 3",
   "language": "python",
   "name": "python3"
  },
  "language_info": {
   "codemirror_mode": {
    "name": "ipython",
    "version": 3
   },
   "file_extension": ".py",
   "mimetype": "text/x-python",
   "name": "python",
   "nbconvert_exporter": "python",
   "pygments_lexer": "ipython3",
   "version": "3.8.5"
  }
 },
 "nbformat": 4,
 "nbformat_minor": 4
}

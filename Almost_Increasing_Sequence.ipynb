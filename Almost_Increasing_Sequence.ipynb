{
 "cells": [
  {
   "cell_type": "markdown",
   "metadata": {},
   "source": [
    "Given a sequence of integers as an array, determine whether it is possible to obtain a strictly increasing sequence by removing no more than one element from the array.\n",
    "Note: sequence a0, a1, ..., an is considered to be a strictly increasing if a0 < a1 < ... < an. Sequence containing only one element is also considered to be strictly increasing.\n",
    "Example\n",
    "For sequence = [1, 3, 2, 1], the output should be\n",
    "almostIncreasingSequence(sequence) = false.\n",
    "There is no one element in this array that can be removed in order to get a strictly increasing sequence.\n",
    "For sequence = [1, 3, 2], the output should be\n",
    "almostIncreasingSequence(sequence) = true.\n",
    "You can remove 3 from the array to get the strictly increasing sequence [1, 2]. Alternately, you can remove 2 to get the strictly increasing sequence [1, 3]."
   ]
  },
  {
   "cell_type": "code",
   "execution_count": 58,
   "metadata": {},
   "outputs": [],
   "source": [
    "# if the array is 1 + check to see if the next element in the list is smaller\n",
    "# than the previous element. if it's smaller, add it to a list. if the list is\n",
    "# larger than 1, return false\n",
    "def almostIncreasingSequence(sequence):\n",
    "    remove = 0\n",
    "    i = 0\n",
    "    if len(sequence) < 1:\n",
    "        return False\n",
    "    else:\n",
    "        for num in range(len(sequence)-1):\n",
    "            curr_num = sequence[i]\n",
    "            next_num = sequence[i + 1]\n",
    "            if curr_num > next_num:\n",
    "                i += 1\n",
    "                remove += 1\n",
    "            else:\n",
    "                i += 1\n",
    "    if remove > 1:\n",
    "        return False \n",
    "    else:\n",
    "        return True"
   ]
  },
  {
   "cell_type": "code",
   "execution_count": 59,
   "metadata": {},
   "outputs": [
    {
     "data": {
      "text/plain": [
       "True"
      ]
     },
     "execution_count": 59,
     "metadata": {},
     "output_type": "execute_result"
    }
   ],
   "source": [
    "seq = [1, 3, 2]\n",
    "almostIncreasingSequence(seq)"
   ]
  },
  {
   "cell_type": "code",
   "execution_count": 60,
   "metadata": {},
   "outputs": [
    {
     "data": {
      "text/plain": [
       "False"
      ]
     },
     "execution_count": 60,
     "metadata": {},
     "output_type": "execute_result"
    }
   ],
   "source": [
    "seq = [1, 3, 2, 1]\n",
    "almostIncreasingSequence(seq)"
   ]
  },
  {
   "cell_type": "code",
   "execution_count": null,
   "metadata": {},
   "outputs": [],
   "source": []
  }
 ],
 "metadata": {
  "kernelspec": {
   "display_name": "Python 3",
   "language": "python",
   "name": "python3"
  },
  "language_info": {
   "codemirror_mode": {
    "name": "ipython",
    "version": 3
   },
   "file_extension": ".py",
   "mimetype": "text/x-python",
   "name": "python",
   "nbconvert_exporter": "python",
   "pygments_lexer": "ipython3",
   "version": "3.7.4"
  }
 },
 "nbformat": 4,
 "nbformat_minor": 2
}

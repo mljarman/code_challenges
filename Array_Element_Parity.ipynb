{
 "cells": [
  {
   "cell_type": "markdown",
   "metadata": {},
   "source": [
    "In this Kata, you will be given an array of integers whose elements have both a negative and a positive value, except for one integer that is either only negative or only positive. Your task will be to find that integer.\n",
    "\n",
    "Examples:\n",
    "\n",
    "[1, -1, 2, -2, 3] => 3\n",
    "\n",
    "3 has no matching negative appearance\n",
    "\n",
    "[-3, 1, 2, 3, -1, -4, -2] => -4\n",
    "\n",
    "-4 has no matching positive appearance\n",
    "\n",
    "[1, -1, 2, -2, 3, 3] => 3\n",
    "\n",
    "(the only-positive or only-negative integer may appear more than once)\n",
    "\n",
    "Good luck!"
   ]
  },
  {
   "cell_type": "code",
   "execution_count": 75,
   "metadata": {},
   "outputs": [],
   "source": [
    "def solve(arr):\n",
    "    pos = set()\n",
    "    neg = set()\n",
    "    for num in arr:\n",
    "        if num > 0:\n",
    "            pos.add(num)\n",
    "        else:\n",
    "            neg.add(num)\n",
    "    for num in neg:\n",
    "        if abs(num) in(pos):\n",
    "            pass\n",
    "        else:\n",
    "            return num\n",
    "    for num in pos:\n",
    "        if -(num) in neg:\n",
    "            pass\n",
    "        else:\n",
    "            return num"
   ]
  },
  {
   "cell_type": "code",
   "execution_count": 77,
   "metadata": {},
   "outputs": [],
   "source": [
    "solve([-2, 2, -2])"
   ]
  },
  {
   "cell_type": "code",
   "execution_count": 78,
   "metadata": {},
   "outputs": [
    {
     "data": {
      "text/plain": [
       "-1"
      ]
     },
     "execution_count": 78,
     "metadata": {},
     "output_type": "execute_result"
    }
   ],
   "source": [
    "solve([-1, 2, 4, -4, -2])"
   ]
  },
  {
   "cell_type": "code",
   "execution_count": null,
   "metadata": {},
   "outputs": [],
   "source": []
  }
 ],
 "metadata": {
  "kernelspec": {
   "display_name": "Python 3",
   "language": "python",
   "name": "python3"
  },
  "language_info": {
   "codemirror_mode": {
    "name": "ipython",
    "version": 3
   },
   "file_extension": ".py",
   "mimetype": "text/x-python",
   "name": "python",
   "nbconvert_exporter": "python",
   "pygments_lexer": "ipython3",
   "version": "3.7.4"
  }
 },
 "nbformat": 4,
 "nbformat_minor": 2
}

{
 "cells": [
  {
   "cell_type": "markdown",
   "metadata": {},
   "source": [
    "A child is playing with a ball on the nth floor of a tall building. The height of this floor, h, is known.\n",
    "\n",
    "He drops the ball out of the window. The ball bounces (for example), to two-thirds of its height (a bounce of 0.66).\n",
    "\n",
    "His mother looks out of a window 1.5 meters from the ground.\n",
    "\n",
    "How many times will the mother see the ball pass in front of her window (including when it's falling and bouncing?\n",
    "\n",
    "Three conditions must be met for a valid experiment:\n",
    "Float parameter \"h\" in meters must be greater than 0\n",
    "Float parameter \"bounce\" must be greater than 0 and less than 1\n",
    "Float parameter \"window\" must be less than h.\n",
    "If all three conditions above are fulfilled, return a positive integer, otherwise return -1.\n",
    "\n",
    "Note:\n",
    "The ball can only be seen if the height of the rebounding ball is strictly greater than the window parameter.\n",
    "\n",
    "Example:\n",
    "- h = 3, bounce = 0.66, window = 1.5, result is 3\n",
    "\n",
    "- h = 3, bounce = 1, window = 1.5, result is -1 \n",
    "\n",
    "(Condition 2) not fulfilled)."
   ]
  },
  {
   "cell_type": "markdown",
   "metadata": {},
   "source": [
    "testing(2, 0.5, 1, 1)\n",
    "        testing(3, 0.66, 1.5, 3)\n",
    "        testing(30, 0.66, 1.5, 15)\n",
    "        testing(30, 0.75, 1.5, 21)"
   ]
  },
  {
   "cell_type": "code",
   "execution_count": 34,
   "metadata": {},
   "outputs": [],
   "source": [
    "def bouncing_ball(h, bounce, window):\n",
    "    if h > 0 and bounce > 0 and bounce < 1 and window < h:\n",
    "        counter = 0\n",
    "        rebound = bounce * h\n",
    "        print(f'rebound {rebound}')\n",
    "        print(f'h {h}')\n",
    "        while rebound > window:\n",
    "            counter += 1\n",
    "            h = rebound\n",
    "            print(h)\n",
    "        return counter \n",
    "    else:\n",
    "        return -1"
   ]
  },
  {
   "cell_type": "code",
   "execution_count": 80,
   "metadata": {},
   "outputs": [],
   "source": [
    "def bouncing_ball(h, bounce, window):\n",
    "    if h > 0 and bounce > 0 and bounce <= 1 and window < h:\n",
    "        counter = 0\n",
    "    else:\n",
    "        return -1\n",
    "    rebound = bounce * h\n",
    "    while rebound > window:\n",
    "        rebound = bounce * h\n",
    "        counter += 2\n",
    "        h = rebound\n",
    "    return counter - 1\n"
   ]
  },
  {
   "cell_type": "code",
   "execution_count": 144,
   "metadata": {},
   "outputs": [],
   "source": [
    "def bouncing_ball(h, bounce, window):\n",
    "    if h < 0 and bounce < 0 and bounce > 1 and window > h:\n",
    "        return -1\n",
    "    counter = 1\n",
    "    rebound = bounce * h\n",
    "#     if rebound == window:\n",
    "#         return 1\n",
    "    while rebound > window:\n",
    "        rebound = bounce * rebound\n",
    "        counter += 2\n",
    "    return counter"
   ]
  },
  {
   "cell_type": "code",
   "execution_count": 149,
   "metadata": {},
   "outputs": [],
   "source": [
    "def bouncing_ball(h, bounce, window):\n",
    "    if h > 0 and bounce > 0 and bounce < 1 and window < h:\n",
    "        counter = 1\n",
    "        rebound = bounce * h\n",
    "        while rebound > window:\n",
    "            rebound = bounce * rebound\n",
    "            counter += 2\n",
    "        return counter\n",
    "    return -1"
   ]
  },
  {
   "cell_type": "code",
   "execution_count": 150,
   "metadata": {},
   "outputs": [
    {
     "data": {
      "text/plain": [
       "21"
      ]
     },
     "execution_count": 150,
     "metadata": {},
     "output_type": "execute_result"
    }
   ],
   "source": [
    "bouncing_ball(30, 0.75, 1.5)"
   ]
  },
  {
   "cell_type": "code",
   "execution_count": 151,
   "metadata": {},
   "outputs": [
    {
     "data": {
      "text/plain": [
       "15"
      ]
     },
     "execution_count": 151,
     "metadata": {},
     "output_type": "execute_result"
    }
   ],
   "source": [
    "bouncing_ball(30, 0.66, 1.5)"
   ]
  },
  {
   "cell_type": "code",
   "execution_count": 152,
   "metadata": {},
   "outputs": [
    {
     "data": {
      "text/plain": [
       "3"
      ]
     },
     "execution_count": 152,
     "metadata": {},
     "output_type": "execute_result"
    }
   ],
   "source": [
    "bouncing_ball(3, .66, 1.5)"
   ]
  },
  {
   "cell_type": "code",
   "execution_count": 153,
   "metadata": {},
   "outputs": [
    {
     "data": {
      "text/plain": [
       "1"
      ]
     },
     "execution_count": 153,
     "metadata": {},
     "output_type": "execute_result"
    }
   ],
   "source": [
    "bouncing_ball(2, .5, 1)"
   ]
  }
 ],
 "metadata": {
  "kernelspec": {
   "display_name": "Python 3",
   "language": "python",
   "name": "python3"
  },
  "language_info": {
   "codemirror_mode": {
    "name": "ipython",
    "version": 3
   },
   "file_extension": ".py",
   "mimetype": "text/x-python",
   "name": "python",
   "nbconvert_exporter": "python",
   "pygments_lexer": "ipython3",
   "version": "3.8.5"
  }
 },
 "nbformat": 4,
 "nbformat_minor": 4
}

{
 "cells": [
  {
   "cell_type": "markdown",
   "metadata": {},
   "source": [
    "You need to write a function, that returns the first non-repeated character in the given string.\n",
    "\n",
    "For example for string \"test\" function should return 'e'. For string \"teeter\" function should return 'r'.\n",
    "\n",
    "If a string contains all unique characters, then return just the first character of the string.\n",
    "Example: for input \"trend\" function should return 't'\n",
    "\n",
    "You can assume, that the input string has always non-zero length.\n",
    "\n",
    "If there is no repeating character, return null in JS or Java, and None in Python."
   ]
  },
  {
   "cell_type": "markdown",
   "metadata": {},
   "source": [
    "Test.it(\"Basic tests\")\n",
    "Test.assert_equals(first_non_repeated(\"test\"),'e')\n",
    "Test.assert_equals(first_non_repeated(\"teeter\"),'r')\n",
    "Test.assert_equals(first_non_repeated(\"1122321235121222\"),'5')"
   ]
  },
  {
   "cell_type": "code",
   "execution_count": 42,
   "metadata": {},
   "outputs": [],
   "source": [
    "def first_non_repeated(s):\n",
    "    seen = {}\n",
    "    order = []\n",
    "    for char in s:\n",
    "        if char not in seen:\n",
    "            seen[char] = 1\n",
    "            order.append(char)\n",
    "        else:\n",
    "            seen[char] += 1\n",
    "    for c in order:\n",
    "        if seen[c] == 1:\n",
    "            return c \n",
    "    return None\n",
    "        \n"
   ]
  },
  {
   "cell_type": "code",
   "execution_count": 43,
   "metadata": {},
   "outputs": [
    {
     "name": "stdout",
     "output_type": "stream",
     "text": [
      "{'t': 1}\n",
      "{'t': 1, 'e': 1}\n",
      "{'t': 1, 'e': 2}\n",
      "{'t': 2, 'e': 2}\n",
      "{'t': 2, 'e': 3}\n",
      "{'t': 2, 'e': 3, 'r': 1}\n"
     ]
    },
    {
     "data": {
      "text/plain": [
       "'r'"
      ]
     },
     "execution_count": 43,
     "metadata": {},
     "output_type": "execute_result"
    }
   ],
   "source": [
    "first_non_repeated('teeter')"
   ]
  },
  {
   "cell_type": "code",
   "execution_count": 37,
   "metadata": {},
   "outputs": [
    {
     "name": "stdout",
     "output_type": "stream",
     "text": [
      "{'1': 1}\n",
      "{'1': 2}\n",
      "{'1': 2, '2': 1}\n",
      "{'1': 2, '2': 2}\n",
      "{'1': 2, '2': 2, '3': 1}\n",
      "{'1': 2, '2': 3, '3': 1}\n",
      "{'1': 3, '2': 3, '3': 1}\n",
      "{'1': 3, '2': 4, '3': 1}\n",
      "{'1': 3, '2': 4, '3': 2}\n",
      "{'1': 3, '2': 4, '3': 2, '5': 1}\n",
      "{'1': 4, '2': 4, '3': 2, '5': 1}\n",
      "{'1': 4, '2': 5, '3': 2, '5': 1}\n",
      "{'1': 5, '2': 5, '3': 2, '5': 1}\n",
      "{'1': 5, '2': 6, '3': 2, '5': 1}\n",
      "{'1': 5, '2': 7, '3': 2, '5': 1}\n",
      "{'1': 5, '2': 8, '3': 2, '5': 1}\n",
      "1\n"
     ]
    }
   ],
   "source": [
    "first_non_repeated('1122321235121222')"
   ]
  },
  {
   "cell_type": "code",
   "execution_count": 44,
   "metadata": {},
   "outputs": [
    {
     "name": "stdout",
     "output_type": "stream",
     "text": [
      "{'t': 1}\n",
      "{'t': 1, 'e': 1}\n",
      "{'t': 1, 'e': 1, 's': 1}\n",
      "{'t': 2, 'e': 1, 's': 1}\n"
     ]
    },
    {
     "data": {
      "text/plain": [
       "'e'"
      ]
     },
     "execution_count": 44,
     "metadata": {},
     "output_type": "execute_result"
    }
   ],
   "source": [
    "first_non_repeated('test')"
   ]
  },
  {
   "cell_type": "code",
   "execution_count": 45,
   "metadata": {},
   "outputs": [
    {
     "name": "stdout",
     "output_type": "stream",
     "text": [
      "{'t': 1}\n",
      "{'t': 1, 'e': 1}\n",
      "{'t': 1, 'e': 1, 'a': 1}\n",
      "{'t': 1, 'e': 1, 'a': 1, 'r': 1}\n"
     ]
    },
    {
     "data": {
      "text/plain": [
       "'t'"
      ]
     },
     "execution_count": 45,
     "metadata": {},
     "output_type": "execute_result"
    }
   ],
   "source": [
    "first_non_repeated('tear')"
   ]
  },
  {
   "cell_type": "code",
   "execution_count": null,
   "metadata": {},
   "outputs": [],
   "source": []
  }
 ],
 "metadata": {
  "kernelspec": {
   "display_name": "Python 3",
   "language": "python",
   "name": "python3"
  },
  "language_info": {
   "codemirror_mode": {
    "name": "ipython",
    "version": 3
   },
   "file_extension": ".py",
   "mimetype": "text/x-python",
   "name": "python",
   "nbconvert_exporter": "python",
   "pygments_lexer": "ipython3",
   "version": "3.8.5"
  }
 },
 "nbformat": 4,
 "nbformat_minor": 4
}

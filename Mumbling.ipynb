{
 "cells": [
  {
   "cell_type": "markdown",
   "metadata": {},
   "source": [
    "This time no story, no theory. The examples below show you how to write function accum:\n",
    "\n",
    "Examples:\n",
    "\n",
    "accum(\"abcd\") -> \"A-Bb-Ccc-Dddd\"\n",
    "\n",
    "\n",
    "accum(\"RqaEzty\") -> \"R-Qq-Aaa-Eeee-Zzzzz-Tttttt-Yyyyyyy\"\n",
    "\n",
    "\n",
    "accum(\"cwAt\") -> \"C-Ww-Aaa-Tttt\""
   ]
  },
  {
   "cell_type": "code",
   "execution_count": 70,
   "metadata": {},
   "outputs": [],
   "source": [
    "def accum(s):\n",
    "    result = []\n",
    "    i = 0\n",
    "    for letter in s:\n",
    "        result.append(letter.upper() + letter.lower() * i + \"-\")\n",
    "        i += 1\n",
    "    result = \"\".join(result)[:-1]\n",
    "    return result\n",
    "\n",
    "  \n",
    "        \n",
    "\n",
    "        "
   ]
  },
  {
   "cell_type": "code",
   "execution_count": 71,
   "metadata": {},
   "outputs": [
    {
     "data": {
      "text/plain": [
       "'S-Tt-Aaa-Rrrr-Ttttt'"
      ]
     },
     "execution_count": 71,
     "metadata": {},
     "output_type": "execute_result"
    }
   ],
   "source": [
    "accum('start')"
   ]
  },
  {
   "cell_type": "code",
   "execution_count": 72,
   "metadata": {},
   "outputs": [],
   "source": [
    "# better solution provided after submitted:\n",
    "def accum(s):\n",
    "    return '-'.join(c.upper() + c.lower() * i for i, c in enumerate(s))"
   ]
  },
  {
   "cell_type": "code",
   "execution_count": null,
   "metadata": {},
   "outputs": [],
   "source": []
  }
 ],
 "metadata": {
  "kernelspec": {
   "display_name": "Python 3",
   "language": "python",
   "name": "python3"
  },
  "language_info": {
   "codemirror_mode": {
    "name": "ipython",
    "version": 3
   },
   "file_extension": ".py",
   "mimetype": "text/x-python",
   "name": "python",
   "nbconvert_exporter": "python",
   "pygments_lexer": "ipython3",
   "version": "3.8.5"
  }
 },
 "nbformat": 4,
 "nbformat_minor": 4
}

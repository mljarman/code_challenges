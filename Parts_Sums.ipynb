{
 "cells": [
  {
   "cell_type": "code",
   "execution_count": 1,
   "metadata": {},
   "outputs": [],
   "source": [
    "ls =[744125, 935, 407, 454, 430, 90, 144, 6710213, 889, 810, 2579358]\n",
    "def parts_sums(ls):\n",
    "    sums = []\n",
    "    while len(ls) > 0:\n",
    "        sums.append(sum(ls))\n",
    "        ls.pop(0)\n",
    "    sums.append(0)\n",
    "    return sums\n",
    "        "
   ]
  },
  {
   "cell_type": "code",
   "execution_count": 3,
   "metadata": {},
   "outputs": [
    {
     "data": {
      "text/plain": [
       "[10037855,\n",
       " 9293730,\n",
       " 9292795,\n",
       " 9292388,\n",
       " 9291934,\n",
       " 9291504,\n",
       " 9291414,\n",
       " 9291270,\n",
       " 2581057,\n",
       " 2580168,\n",
       " 2579358,\n",
       " 0]"
      ]
     },
     "execution_count": 3,
     "metadata": {},
     "output_type": "execute_result"
    }
   ],
   "source": [
    "parts_sums(ls)"
   ]
  },
  {
   "cell_type": "code",
   "execution_count": 4,
   "metadata": {},
   "outputs": [
    {
     "data": {
      "text/plain": [
       "[]"
      ]
     },
     "execution_count": 4,
     "metadata": {},
     "output_type": "execute_result"
    }
   ],
   "source": [
    "ls\n"
   ]
  },
  {
   "cell_type": "code",
   "execution_count": null,
   "metadata": {},
   "outputs": [],
   "source": []
  }
 ],
 "metadata": {
  "kernelspec": {
   "display_name": "Python 3",
   "language": "python",
   "name": "python3"
  },
  "language_info": {
   "codemirror_mode": {
    "name": "ipython",
    "version": 3
   },
   "file_extension": ".py",
   "mimetype": "text/x-python",
   "name": "python",
   "nbconvert_exporter": "python",
   "pygments_lexer": "ipython3",
   "version": "3.8.5"
  }
 },
 "nbformat": 4,
 "nbformat_minor": 2
}

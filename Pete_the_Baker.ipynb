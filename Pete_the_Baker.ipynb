{
 "cells": [
  {
   "cell_type": "markdown",
   "metadata": {},
   "source": [
    "Pete likes to bake some cakes. He has some recipes and ingredients. Unfortunately he is not good in maths. Can you help him to find out, how many cakes he could bake considering his recipes?\n",
    "\n",
    "Write a function cakes(), which takes the recipe (object) and the available ingredients (also an object) and returns the maximum number of cakes Pete can bake (integer). For simplicity there are no units for the amounts (e.g. 1 lb of flour or 200 g of sugar are simply 1 or 200). Ingredients that are not present in the objects, can be considered as 0.\n",
    "\n",
    "Examples:\n",
    "\n",
    "# must return 2\n",
    "cakes({flour: 500, sugar: 200, eggs: 1}, {flour: 1200, sugar: 1200, eggs: 5, milk: 200})\n",
    "# must return 0\n",
    "cakes({apples: 3, flour: 300, sugar: 150, milk: 100, oil: 100}, {sugar: 500, flour: 2000, milk: 2000})"
   ]
  },
  {
   "cell_type": "markdown",
   "metadata": {},
   "source": [
    "recipe = {\"flour\": 500, \"sugar\": 200, \"eggs\": 1}\n",
    "available = {\"flour\": 1200, \"sugar\": 1200, \"eggs\": 5, \"milk\": 200}\n",
    "test.assert_equals(cakes(recipe, available), 2, 'Wrong result for example #1')\n",
    "\n",
    "recipe = {\"apples\": 3, \"flour\": 300, \"sugar\": 150, \"milk\": 100, \"oil\": 100}\n",
    "available = {\"sugar\": 500, \"flour\": 2000, \"milk\": 2000}\n",
    "test.assert_equals(cakes(recipe, available), 0, 'Wrong result for example #2')"
   ]
  },
  {
   "cell_type": "code",
   "execution_count": 9,
   "metadata": {},
   "outputs": [],
   "source": [
    "def cakes(recipe, available):\n",
    "    for i in recipe.keys():\n",
    "        if i not in available.keys():\n",
    "            return 0\n",
    "    batches = []\n",
    "    for i in available.items():\n",
    "        for r in recipe.items():\n",
    "            if i[0] == r[0]:\n",
    "                batches.append(i[1]//r[1])\n",
    "    return min(batches)"
   ]
  },
  {
   "cell_type": "code",
   "execution_count": 10,
   "metadata": {},
   "outputs": [
    {
     "data": {
      "text/plain": [
       "0"
      ]
     },
     "execution_count": 10,
     "metadata": {},
     "output_type": "execute_result"
    }
   ],
   "source": [
    "recipe = {\"apples\": 3, \"flour\": 300, \"sugar\": 150, \"milk\": 100, \"oil\": 100} \n",
    "available = {\"sugar\": 500, \"flour\": 2000, \"milk\": 2000} \n",
    "cakes(recipe, available)"
   ]
  },
  {
   "cell_type": "code",
   "execution_count": 11,
   "metadata": {},
   "outputs": [
    {
     "data": {
      "text/plain": [
       "5"
      ]
     },
     "execution_count": 11,
     "metadata": {},
     "output_type": "execute_result"
    }
   ],
   "source": [
    "recipe = {'cream': 200, 'flour': 300, 'sugar': 150, 'milk': 100, 'oil': 100}\n",
    "available ={'sugar': 1700, 'flour': 20000, 'milk': 20000, 'oil': 30000, 'cream': 1000}\n",
    "cakes(recipe, available)"
   ]
  },
  {
   "cell_type": "code",
   "execution_count": 12,
   "metadata": {},
   "outputs": [
    {
     "data": {
      "text/plain": [
       "0"
      ]
     },
     "execution_count": 12,
     "metadata": {},
     "output_type": "execute_result"
    }
   ],
   "source": [
    "recipe = {'cream': 200, 'flour': 300, 'sugar': 150, 'milk': 100, 'oil': 100}\n",
    "available ={'sugar': 1700, 'flour': 20000, 'milk': 20000, 'oil': 30000}\n",
    "cakes(recipe, available)"
   ]
  },
  {
   "cell_type": "code",
   "execution_count": 13,
   "metadata": {},
   "outputs": [
    {
     "data": {
      "text/plain": [
       "19"
      ]
     },
     "execution_count": 13,
     "metadata": {},
     "output_type": "execute_result"
    }
   ],
   "source": [
    "recipe = {'crumbles': 11, 'chocolate': 69, 'butter': 59}\n",
    "available = {'crumbles': 9097, 'flour': 277, 'pears': 6354, 'cream': 2013, 'apples': 3887, 'nuts': 6281, 'milk': 7746, 'sugar': 5381, 'oil': 7468, 'chocolate': 1377, 'butter': 9228, 'cocoa': 324, 'eggs': 3251}\n",
    "cakes(recipe, available)"
   ]
  },
  {
   "cell_type": "code",
   "execution_count": null,
   "metadata": {},
   "outputs": [],
   "source": []
  }
 ],
 "metadata": {
  "kernelspec": {
   "display_name": "Python 3",
   "language": "python",
   "name": "python3"
  },
  "language_info": {
   "codemirror_mode": {
    "name": "ipython",
    "version": 3
   },
   "file_extension": ".py",
   "mimetype": "text/x-python",
   "name": "python",
   "nbconvert_exporter": "python",
   "pygments_lexer": "ipython3",
   "version": "3.8.5"
  }
 },
 "nbformat": 4,
 "nbformat_minor": 4
}

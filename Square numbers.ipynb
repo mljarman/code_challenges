{
 "cells": [
  {
   "cell_type": "markdown",
   "metadata": {},
   "source": [
    "A square of squares\n",
    "You like building blocks. You especially like building blocks that are squares. And what you even like more, is to arrange them into a square of square building blocks!\n",
    "\n",
    "However, sometimes, you can't arrange them into a square. Instead, you end up with an ordinary rectangle! Those blasted things! If you just had a way to know, whether you're currently working in vain… Wait! That's it! You just have to check if your number of building blocks is a perfect square.\n",
    "\n",
    "Task\n",
    "Given an integral number, determine if it's a square number:\n",
    "\n",
    "In mathematics, a square number or perfect square is an integer that is the square of an integer; in other words, it is the product of some integer with itself.\n",
    "\n",
    "The tests will always use some integral number, so don't worry about that in dynamic typed languages.\n",
    "\n",
    "Examples\n",
    "-1  =>  false\n",
    " 0  =>  true\n",
    " 3  =>  false\n",
    " 4  =>  true\n",
    "25  =>  true\n",
    "26  =>  false"
   ]
  },
  {
   "cell_type": "code",
   "execution_count": 21,
   "metadata": {},
   "outputs": [],
   "source": [
    "def is_square(n):\n",
    "    root = n ** 0.5\n",
    "    if n < 0:\n",
    "        print(f'{n}: Negative numbers cannot be square numbers')\n",
    "        return False\n",
    "    elif int(root + .5)**2 == n:\n",
    "        print(f'{n} is a square number')\n",
    "        return True\n",
    "    else:\n",
    "        print(f'{n} is not a square number')\n",
    "        return False"
   ]
  },
  {
   "cell_type": "code",
   "execution_count": 22,
   "metadata": {},
   "outputs": [
    {
     "name": "stdout",
     "output_type": "stream",
     "text": [
      "-1: Negative numbers cannot be square numbers\n"
     ]
    }
   ],
   "source": [
    "is_square(-1)"
   ]
  },
  {
   "cell_type": "code",
   "execution_count": 23,
   "metadata": {},
   "outputs": [
    {
     "data": {
      "text/plain": [
       "'2 is not a square number'"
      ]
     },
     "execution_count": 23,
     "metadata": {},
     "output_type": "execute_result"
    }
   ],
   "source": [
    "is_square(2)"
   ]
  },
  {
   "cell_type": "code",
   "execution_count": 24,
   "metadata": {},
   "outputs": [
    {
     "data": {
      "text/plain": [
       "'3 is not a square number'"
      ]
     },
     "execution_count": 24,
     "metadata": {},
     "output_type": "execute_result"
    }
   ],
   "source": [
    "is_square(3)"
   ]
  },
  {
   "cell_type": "code",
   "execution_count": 25,
   "metadata": {},
   "outputs": [
    {
     "data": {
      "text/plain": [
       "'9 is a square number'"
      ]
     },
     "execution_count": 25,
     "metadata": {},
     "output_type": "execute_result"
    }
   ],
   "source": [
    "is_square(9)"
   ]
  },
  {
   "cell_type": "code",
   "execution_count": null,
   "metadata": {},
   "outputs": [],
   "source": []
  }
 ],
 "metadata": {
  "kernelspec": {
   "display_name": "Python 3",
   "language": "python",
   "name": "python3"
  },
  "language_info": {
   "codemirror_mode": {
    "name": "ipython",
    "version": 3
   },
   "file_extension": ".py",
   "mimetype": "text/x-python",
   "name": "python",
   "nbconvert_exporter": "python",
   "pygments_lexer": "ipython3",
   "version": "3.7.4"
  }
 },
 "nbformat": 4,
 "nbformat_minor": 2
}

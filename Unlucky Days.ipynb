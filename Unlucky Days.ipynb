{
 "cells": [
  {
   "cell_type": "markdown",
   "metadata": {},
   "source": [
    "Friday 13th or Black Friday is considered as unlucky day. Calculate how many unlucky days are in the given year.\n",
    "\n",
    "Find the number of Friday 13th in the given year.\n",
    "\n",
    "Input: Year as an integer.\n",
    "\n",
    "Output: Number of Black Fridays in the year as an integer.\n",
    "\n",
    "Examples:\n",
    "\n",
    "unluckyDays(2015) == 3\n",
    "unluckyDays(1986) == 1\n",
    "Note: In Ruby years will start from 1593."
   ]
  },
  {
   "cell_type": "code",
   "execution_count": 8,
   "metadata": {},
   "outputs": [],
   "source": [
    "import datetime\n",
    "def unlucky_days(year):\n",
    "    unluckies = 0\n",
    "    for month in range(1,13):\n",
    "        if datetime.date(year, month, 13).weekday()==4:\n",
    "            unluckies += 1\n",
    "    return unluckies\n"
   ]
  },
  {
   "cell_type": "code",
   "execution_count": 9,
   "metadata": {},
   "outputs": [
    {
     "data": {
      "text/plain": [
       "3"
      ]
     },
     "execution_count": 9,
     "metadata": {},
     "output_type": "execute_result"
    }
   ],
   "source": [
    "unlucky_days(2015)"
   ]
  },
  {
   "cell_type": "code",
   "execution_count": null,
   "metadata": {},
   "outputs": [],
   "source": []
  }
 ],
 "metadata": {
  "kernelspec": {
   "display_name": "Python 3",
   "language": "python",
   "name": "python3"
  },
  "language_info": {
   "codemirror_mode": {
    "name": "ipython",
    "version": 3
   },
   "file_extension": ".py",
   "mimetype": "text/x-python",
   "name": "python",
   "nbconvert_exporter": "python",
   "pygments_lexer": "ipython3",
   "version": "3.7.4"
  }
 },
 "nbformat": 4,
 "nbformat_minor": 2
}
